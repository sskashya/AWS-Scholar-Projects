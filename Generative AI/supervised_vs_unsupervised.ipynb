{
 "cells": [
  {
   "cell_type": "markdown",
   "id": "18847c16",
   "metadata": {},
   "source": [
    "# Simple Supervised Learning Model"
   ]
  },
  {
   "cell_type": "markdown",
   "id": "d754c7c1",
   "metadata": {},
   "source": [
    "## Predicting Energy Efficiency of Buildings. "
   ]
  },
  {
   "cell_type": "code",
   "execution_count": 1,
   "id": "2ddd536e",
   "metadata": {},
   "outputs": [],
   "source": [
    "# Importing necessary libraries\n",
    "import pandas as pd\n",
    "import numpy as np\n",
    "import matplotlib.pyplot as plt\n",
    "import seaborn as sns\n",
    "import warnings\n",
    "from sklearn.model_selection import train_test_split\n",
    "from sklearn.ensemble import RandomForestRegressor\n",
    "from sklearn.metrics import mean_squared_error\n",
    "\n",
    "warnings.filterwarnings('ignore')"
   ]
  },
  {
   "cell_type": "code",
   "execution_count": null,
   "id": "c278c428",
   "metadata": {},
   "outputs": [],
   "source": [
    "# Generating synthetic dataset for building features and energy efficiency ratings\n",
    "# Using np.random.uniform() to develop normal distribution dataset. \n",
    "np.random.seed(0)\n",
    "data_size = 500\n",
    "data = {\n",
    "    'WallArea': np.random.randint(200, 400, data_size),\n",
    "    'RoofArea': np.random.randint(100, 200, data_size),\n",
    "    'OverallHeight': np.random.uniform(3, 10, data_size),\n",
    "    'GlazingArea': np.random.uniform(0, 1, data_size),\n",
    "    'EnergyEfficiency': np.random.uniform(10, 50, data_size)  # Energy efficiency rating\n",
    "}\n",
    "df = pd.DataFrame(data)\n"
   ]
  }
 ],
 "metadata": {
  "kernelspec": {
   "display_name": "Python 3",
   "language": "python",
   "name": "python3"
  },
  "language_info": {
   "codemirror_mode": {
    "name": "ipython",
    "version": 3
   },
   "file_extension": ".py",
   "mimetype": "text/x-python",
   "name": "python",
   "nbconvert_exporter": "python",
   "pygments_lexer": "ipython3",
   "version": "3.12.1"
  }
 },
 "nbformat": 4,
 "nbformat_minor": 5
}
